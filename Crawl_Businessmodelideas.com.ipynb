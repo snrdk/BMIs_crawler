
  {
   "cell_type": "markdown",
   "id": "3d3672dd",
   "metadata": {},
   "source": [
    "Collecting enterprise-specific data"
   ]
  },
  {
   "cell_type": "code",
   "execution_count": 39,
   "id": "ff0a1abd",
   "metadata": {
    "scrolled": true
   },
   "outputs": [
    {
     "name": "stdout",
     "output_type": "stream",
     "text": [
      "Cannot find data for tupperware. Skipping this company.\n",
      "Cannot find data for Zalando. Skipping this company.\n",
      "Cannot find data for forbes. Skipping this company.\n",
      "Cannot find data for sonos. Skipping this company.\n",
      "Cannot find data for nike. Skipping this company.\n",
      "Cannot find data for dollar-shave-club. Skipping this company.\n",
      "Cannot find data for red-bull. Skipping this company.\n",
      "Cannot find data for ted. Skipping this company.\n",
      "Cannot find data for spotify. Skipping this company.\n",
      "Cannot find data for juul. Skipping this company.\n"
     ]
    },
    {
     "name": "stdout",
     "output_type": "stream",
     "text": [
      "Cannot find data for jet-com. Skipping this company.\n",
      "Cannot find data for beacon. Skipping this company.\n",
      "Cannot find data for amiando. Skipping this company.\n",
      "Cannot find data for myfab. Skipping this company.\n",
      "Cannot find data for path. Skipping this company.\n",
      "Cannot find data for kiwi-crate. Skipping this company.\n",
      "Cannot find data for myvideo. Skipping this company.\n",
      "Cannot find data for neno-offices. Skipping this company.\n",
      "Cannot find data for sellaround. Skipping this company.\n",
      "Number of companies successfully scraped: 248\n"
     ]
    }
   ],
   "source": [
    "DEBUG = 1\n",
    "\n",
    "def connectchrome():\n",
    "    options = Options()\n",
    "    # if you want to hide browser window, uncomment line below\n",
    "    #options.add_argument('--headless')\n",
    "    options.add_argument('log-level=3')\n",
    "    options.add_argument(\"--incognito\")\n",
    "    options.add_argument(\"--no-sandbox\")\n",
    "    options.add_argument(\"--disable-dev-shm-usage\")\n",
    "    options.add_experimental_option('excludeSwitches', ['enable-logging'])\n",
    "    driver = webdriver.Chrome(executable_path= r'C:\\\\Users\\\\user\\\\Desktop\\\\python\\\\banyous\\\\1-Quora-scrapping\\\\chromedriver.exe', options = options)\n",
    "    driver.maximize_window()\n",
    "    time.sleep(2)\n",
    "    return driver\n",
    "\n",
    "driver = connectchrome()\n",
    "driver.implicitly_wait(3)\n",
    "\n",
    "# Log-in\n",
    "driver.get('https://www.businessmodelideas.com/login')\n",
    "login_button = driver.find_element_by_xpath(\"//div[@class='col-12 text-lg-right text-left']/button[@type='submit' and @class='cta']\")\n",
    "\n",
    "driver.find_element_by_name('login').send_keys('innolab.admin@ds.seoultech.ac.kr') #user_id\n",
    "driver.find_element_by_name('password').send_keys('toctoctoc') #password\n",
    "login_button.click()\n",
    "driver.implicitly_wait(3)\n",
    "\n",
    "# Read a text file with business names\n",
    "with open('company_list(N=163).txt', 'r') as file:\n",
    "    company_names = [line.strip() for line in file.readlines()]\n",
    "    #company_names = [line.strip().lower() for line in file.readlines()]\n",
    "\n",
    "# Column headers\n",
    "headers = [\n",
    "    \"Key Partners\", \"Key Activities\", \"Key Resources\", \"Value Propositions\", \n",
    "    \"Customer Relationships\", \"Channels\", \"Customer Segments\", \n",
    "    \"Cost Structure\", \"Revenue Streams\"\n",
    "]\n",
    "\n",
    "all_data = []\n",
    "\n",
    "\n",
    "## Pilot test\n",
    "for company_name in company_names:\n",
    "    company_name = company_name.strip()  # Remove newline characters\n",
    "    url = f\"https://www.businessmodelideas.com/company/{company_name}\"\n",
    "    driver.get(url)\n",
    "\n",
    "    try:\n",
    "        # Extract description\n",
    "        description_element = driver.find_element_by_xpath(\"//div[@class='description']/p\")\n",
    "        description_text = description_element.text\n",
    "\n",
    "        data = {\"Company\": company_name, \"Description\": description_text}  # Add name and description\n",
    "\n",
    "        # Collect the rest of the data\n",
    "        for header in headers:\n",
    "            span_elements = driver.find_elements_by_xpath(f\"//div[@class='cube-heading mb-2' and contains(text(), '{header}')]/following-sibling::div[contains(@class, 'cube-element')]/span\")\n",
    "            span_texts = [element.text for element in span_elements]\n",
    "\n",
    "            data[header] = span_texts  # Add data for the header\n",
    "\n",
    "        data['Company'] = company_name  # Add the current business name\n",
    "        all_data.append(data.copy())  # Add data from the current enterprise to all_data\n",
    "    except NoSuchElementException:\n",
    "        print(f\"Cannot find data for {company_name}. Skipping this company.\")\n",
    "        continue\n",
    "\n",
    "\n",
    "# Convert all enterprise data into a single DataFrame\n",
    "df_all = pd.DataFrame()\n",
    "for data in all_data:\n",
    "    df = pd.DataFrame({k: pd.Series(v, dtype='object') for k, v in data.items()})\n",
    "    df_all = df_all.append(df, ignore_index=True)\n",
    "    \n",
    "# DataFrame generation\n",
    "df = pd.DataFrame(dict([(k, pd.Series(v, dtype='object')) for k,v in data.items()]))\n",
    "\n",
    "# Save the DataFrame as a CSV file\n",
    "df_all.to_csv(\"collected_all_data3.csv\", index=False)\n",
    "\n",
    "# print the number of companies that were successfully collected\n",
    "print(f\"Number of companies successfully scraped: {len(all_data)}\")\n",
    "\n",
    "# Close the Webdriver\n",
    "driver.quit()"
   ]
  },
  {
   "cell_type": "markdown",
   "id": "98e1a5d6",
   "metadata": {},
   "source": [
    "  \n"
   ]
  },
  {
   "cell_type": "markdown",
   "id": "f796ab65",
   "metadata": {},
   "source": [
    " "
   ]
  },
  {
   "cell_type": "code",
   "execution_count": null,
   "id": "b4c9830d",
   "metadata": {},
   "outputs": [],
   "source": [
    "data = {\"Description\": [paragraph_text]}  # Description\n",
    "\n",
    "\n",
    "for header in headers:\n",
    "    try:\n",
    "        WebDriverWait(driver, 20).until(\n",
    "            EC.presence_of_element_located((By.XPATH, f\"//div[@class='cube-heading mb-2' and contains(text(), '{header}')]\"))\n",
    "        )\n",
    "    except TimeoutException:\n",
    "        print(f\"Timeout waiting for header: {header}\")\n",
    "        continue\n",
    "\n",
    "    # 헤더에 해당하는 cube-element 내부의 span 텍스트들을 추출\n",
    "    span_elements = driver.find_elements_by_xpath(f\"//div[@class='cube-heading mb-2' and contains(text(), '{header}')]/following-sibling::div[contains(@class, 'cube-element')]/span\")\n",
    "    span_texts = [element.text for element in span_elements]\n",
    "\n",
    "    data[header] = span_texts\n",
    "\n",
    "# DataFrame generation\n",
    "df = pd.DataFrame(dict([(k, pd.Series(v, dtype='object')) for k,v in data.items()]))\n",
    "\n",
    "# Save to .csv file\n",
    "df.to_csv(\"collected_data.csv\", index=False)\n",
    "\n",
    "# Close the Webdriver\n",
    "driver.quit()"
   ]
  },
  {
   "cell_type": "code",
   "execution_count": null,
   "id": "b8650350",
   "metadata": {},
   "outputs": [],
   "source": [
    "def save_data(data, mode='a'):\n",
    "    with open(\"business_ideas.csv\", mode, newline='', encoding=\"utf-8\") as csvfile:\n",
    "        writer = csv.writer(csvfile)\n",
    "        if mode == 'w':\n",
    "            writer.writerow([\"company\", \"Description\", \"Employees\", \"Key partners\", \"Key Activities\", \"Key Resources\",\"Value Propositions\", \"Customer Relationships\", \"Channels\", \"Customer Segements\", \"Cost structure\", \"Revenue Streams\"])  # Header\n",
    "        writer.writerows(data)\n",
    "        "
   ]
  },
  {
   "cell_type": "code",
   "execution_count": null,
   "id": "33034aa6",
   "metadata": {},
   "outputs": [],
   "source": [
    "#company_element = driver.title\n",
    "\n",
    "#if \"|\" in page_title:\n",
    "#    company_name = page_title.split(\"|\")[0].strip()\n",
    "#else:\n",
    "#    company_name = page_title\n",
    "\n",
    "## Model Canvas\n",
    "classes = [\n",
    "    \"boxed-content.cube.big-cube-left\", # Key partners\n",
    "    \"boxed-content.cube.small.small-cube-top\", # Key Activities\n",
    "    \"boxed-content.cube.cube.small-cube-bottom\", # Key Resources\n",
    "    \"boxed-content.cube.big-cube-middle\", # Value Propositions\n",
    "    \"boxed-content.cube.cube-small.small-cube-top\", # Customer Relationships\n",
    "    \"boxed-content.cube.cube-small.small-cube-bottom\", # Channels\n",
    "    \"boxed-content.cube.big-cube-right\", # Customer Segments\n",
    "    \"boxed-content.wide-cube-left\", # Cost Structure\n",
    "    \"boxed-content.wide-cube-right\" # Revenue Streams\n",
    "]"
   ]
  }
 ],
 "metadata": {
  "kernelspec": {
   "display_name": "Python 3",
   "language": "python",
   "name": "python3"
  },
  "language_info": {
   "codemirror_mode": {
    "name": "ipython",
    "version": 3
   },
   "file_extension": ".py",
   "mimetype": "text/x-python",
   "name": "python",
   "nbconvert_exporter": "python",
   "pygments_lexer": "ipython3",
   "version": "3.8.8"
  }
 },
 "nbformat": 4,
 "nbformat_minor": 5
}
