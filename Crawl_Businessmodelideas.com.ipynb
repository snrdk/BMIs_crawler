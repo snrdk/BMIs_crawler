{
 "cells": [
  {
   "cell_type": "markdown",
   "id": "4b122805",
   "metadata": {},
   "source": [
    "Import libraries"
   ]
  },
  {
   "cell_type": "code",
   "execution_count": 1,
   "id": "4c3420c5",
   "metadata": {},
   "outputs": [],
   "source": [
    "from bs4 import BeautifulSoup\n",
    "import os\n",
    "import datetime\n",
    "import time\n",
    "import csv\n",
    "import sys\n",
    "import requests\n",
    "from selenium import webdriver\n",
    "from selenium.webdriver.chrome.options import Options\n",
    "from selenium.webdriver.common.by import By\n",
    "from selenium.webdriver.support.ui import WebDriverWait\n",
    "from selenium.webdriver.support import expected_conditions as EC\n",
    "from selenium.common.exceptions import TimeoutException\n",
    "from webdriver_manager.chrome import ChromeDriverManager\n",
    "from selenium.webdriver.common.keys import Keys\n",
    "from selenium.common.exceptions import TimeoutException, NoSuchElementException\n",
    "import pandas as pd"
   ]
  },
  {
   "cell_type": "markdown",
   "id": "b7c903fe",
   "metadata": {},
   "source": [
    " "
   ]
  },
  {
   "cell_type": "markdown",
   "id": "b5a78a17",
   "metadata": {},
   "source": [
    "Crawl list of companies"
   ]
  },
  {
   "cell_type": "code",
   "execution_count": 7,
   "id": "d5edb6ec",
   "metadata": {},
   "outputs": [],
   "source": [
    "DEBUG = 1\n",
    "\n",
    "def connectchrome():\n",
    "    options = Options()\n",
    "    # if you want to hide browser window, uncomment line below\n",
    "    #options.add_argument('--headless')\n",
    "    options.add_argument('log-level=3')\n",
    "    options.add_argument(\"--incognito\")\n",
    "    options.add_argument(\"--no-sandbox\")\n",
    "    options.add_argument(\"--disable-dev-shm-usage\")\n",
    "    options.add_experimental_option('excludeSwitches', ['enable-logging'])\n",
    "    driver = webdriver.Chrome(executable_path= r'C:\\\\Users\\\\user\\\\Desktop\\\\python\\\\banyous\\\\1-Quora-scrapping\\\\chromedriver.exe', options = options)\n",
    "    driver.maximize_window()\n",
    "    time.sleep(2)\n",
    "    return driver\n",
    "\n",
    "driver = connectchrome()\n",
    "driver.implicitly_wait(3)\n",
    "\n",
    "# Log-in\n",
    "driver.get('https://www.businessmodelideas.com/login')\n",
    "login_button = driver.find_element_by_xpath(\"//div[@class='col-12 text-lg-right text-left']/button[@type='submit' and @class='cta']\")\n",
    "\n",
    "driver.find_element_by_name('login').send_keys('nrdk@ds.seoultech.ac.kr')\n",
    "driver.find_element_by_name('password').send_keys('qkaqlcRhc13!')\n",
    "login_button.click()\n",
    "driver.implicitly_wait(3)\n",
    "\n",
    "company_list = []\n",
    "url1 = \"https://www.businessmodelideas.com/explore\"\n",
    "\n",
    "driver.get(url1)\n",
    "driver.implicitly_wait(3)\n",
    "\n",
    "# Find company titles (h2 tags) and Save\n",
    "company_elements = driver.find_elements_by_class_name(\"company-title\")\n",
    "company_names = [element.text for element in company_elements]\n",
    "\n",
    "with open('company_list.txt', 'w', encoding='utf-8') as file:\n",
    "    for name in company_names:\n",
    "        file.write(name + \"\\n\")"
   ]
  },
  {
   "cell_type": "markdown",
   "id": "076542c9",
   "metadata": {},
   "source": [
    " "
   ]
  },
  {
   "cell_type": "markdown",
   "id": "5e817543",
   "metadata": {},
   "source": [
    "Collecting enterprise-specific data"
   ]
  },
  {
   "cell_type": "code",
   "execution_count": 34,
   "id": "cc4acefb",
   "metadata": {},
   "outputs": [],
   "source": [
    "DEBUG = 1\n",
    "\n",
    "def connectchrome():\n",
    "    options = Options()\n",
    "    # if you want to hide browser window, uncomment line below\n",
    "    #options.add_argument('--headless')\n",
    "    options.add_argument('log-level=3')\n",
    "    options.add_argument(\"--incognito\")\n",
    "    options.add_argument(\"--no-sandbox\")\n",
    "    options.add_argument(\"--disable-dev-shm-usage\")\n",
    "    options.add_experimental_option('excludeSwitches', ['enable-logging'])\n",
    "    driver = webdriver.Chrome(executable_path= r'C:\\\\Users\\\\user\\\\Desktop\\\\python\\\\banyous\\\\1-Quora-scrapping\\\\chromedriver.exe', options = options)\n",
    "    driver.maximize_window()\n",
    "    time.sleep(2)\n",
    "    return driver\n",
    "\n",
    "driver = connectchrome()\n",
    "driver.implicitly_wait(3)\n",
    "\n",
    "# Log-in\n",
    "driver.get('https://www.businessmodelideas.com/login')\n",
    "login_button = driver.find_element_by_xpath(\"//div[@class='col-12 text-lg-right text-left']/button[@type='submit' and @class='cta']\")\n",
    "\n",
    "driver.find_element_by_name('login').send_keys('nrdk@ds.seoultech.ac.kr')\n",
    "driver.find_element_by_name('password').send_keys('qkaqlcRhc13!')\n",
    "login_button.click()\n",
    "driver.implicitly_wait(3)\n",
    "\n",
    "\n",
    "############################# Pilot\n",
    "# Amazon-retail test\n",
    "driver.get('https://www.businessmodelideas.com/company/amazon-retail')\n",
    "driver.implicitly_wait(3)\n",
    "\n",
    "# Company name\n",
    "#company_element = driver.title\n",
    "#if \"|\" in page_title:\n",
    "#    company_name = page_title.split(\"|\")[0].strip()\n",
    "#else:\n",
    "#    company_name = page_title\n",
    "\n",
    "# Description paragraph\n",
    "paragraph_element = driver.find_element_by_xpath(\"//div[@class='description']/p\")\n",
    "paragraph_text = paragraph_element.text\n",
    "\n",
    "### Model Canvas\n",
    "# Column headers\n",
    "headers = [\n",
    "    \"Key Partners\", \"Key Activities\", \"Key Resources\", \"Value Propositions\", \n",
    "    \"Customer Relationships\", \"Channels\", \"Customer Segments\", \n",
    "    \"Cost Structure\", \"Revenue Streams\"\n",
    "]\n",
    "\n",
    "\n",
    "data = {\"Description\": [paragraph_text]}  # Description\n",
    "\n",
    "\n",
    "for header in headers:\n",
    "    try:\n",
    "        WebDriverWait(driver, 20).until(\n",
    "            EC.presence_of_element_located((By.XPATH, f\"//div[@class='cube-heading mb-2' and contains(text(), '{header}')]\"))\n",
    "        )\n",
    "    except TimeoutException:\n",
    "        print(f\"Timeout waiting for header: {header}\")\n",
    "        continue\n",
    "\n",
    "    # 헤더에 해당하는 cube-element 내부의 span 텍스트들을 추출\n",
    "    span_elements = driver.find_elements_by_xpath(f\"//div[@class='cube-heading mb-2' and contains(text(), '{header}')]/following-sibling::div[contains(@class, 'cube-element')]/span\")\n",
    "    span_texts = [element.text for element in span_elements]\n",
    "\n",
    "    data[header] = span_texts\n",
    "\n",
    "# DataFrame generation\n",
    "df = pd.DataFrame(dict([(k, pd.Series(v, dtype='object')) for k,v in data.items()]))\n",
    "\n",
    "# Save to .csv file\n",
    "df.to_csv(\"collected_data.csv\", index=False)\n",
    "\n",
    "# Close the Webdriver\n",
    "driver.quit()"
   ]
  },
  {
   "cell_type": "markdown",
   "id": "6c160931",
   "metadata": {},
   "source": [
    "  \n"
   ]
  },
  {
   "cell_type": "markdown",
   "id": "85fdf494",
   "metadata": {},
   "source": [
    " "
   ]
  },
  {
   "cell_type": "code",
   "execution_count": null,
   "id": "b8650350",
   "metadata": {},
   "outputs": [],
   "source": [
    "def save_data(data, mode='a'):\n",
    "    with open(\"business_ideas.csv\", mode, newline='', encoding=\"utf-8\") as csvfile:\n",
    "        writer = csv.writer(csvfile)\n",
    "        if mode == 'w':\n",
    "            writer.writerow([\"company\", \"Description\", \"Employees\", \"Key partners\", \"Key Activities\", \"Key Resources\",\"Value Propositions\", \"Customer Relationships\", \"Channels\", \"Customer Segements\", \"Cost structure\", \"Revenue Streams\"])  # Header\n",
    "        writer.writerows(data)\n",
    "        "
   ]
  },
  {
   "cell_type": "code",
   "execution_count": null,
   "id": "33034aa6",
   "metadata": {},
   "outputs": [],
   "source": [
    "#company_element = driver.title\n",
    "\n",
    "#if \"|\" in page_title:\n",
    "#    company_name = page_title.split(\"|\")[0].strip()\n",
    "#else:\n",
    "#    company_name = page_title\n",
    "\n",
    "## Model Canvas\n",
    "classes = [\n",
    "    \"boxed-content.cube.big-cube-left\", # Key partners\n",
    "    \"boxed-content.cube.small.small-cube-top\", # Key Activities\n",
    "    \"boxed-content.cube.cube.small-cube-bottom\", # Key Resources\n",
    "    \"boxed-content.cube.big-cube-middle\", # Value Propositions\n",
    "    \"boxed-content.cube.cube-small.small-cube-top\", # Customer Relationships\n",
    "    \"boxed-content.cube.cube-small.small-cube-bottom\", # Channels\n",
    "    \"boxed-content.cube.big-cube-right\", # Customer Segments\n",
    "    \"boxed-content.wide-cube-left\", # Cost Structure\n",
    "    \"boxed-content.wide-cube-right\" # Revenue Streams\n",
    "]"
   ]
  }
 ],
 "metadata": {
  "kernelspec": {
   "display_name": "Python 3",
   "language": "python",
   "name": "python3"
  },
  "language_info": {
   "codemirror_mode": {
    "name": "ipython",
    "version": 3
   },
   "file_extension": ".py",
   "mimetype": "text/x-python",
   "name": "python",
   "nbconvert_exporter": "python",
   "pygments_lexer": "ipython3",
   "version": "3.8.8"
  }
 },
 "nbformat": 4,
 "nbformat_minor": 5
}
