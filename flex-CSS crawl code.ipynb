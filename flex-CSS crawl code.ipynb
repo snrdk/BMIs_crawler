{
 "cells": [
  {
   "cell_type": "code",
   "execution_count": null,
   "id": "e5c706f0",
   "metadata": {},
   "outputs": [],
   "source": [
    "from selenium import webdriver\n",
    "from selenium.webdriver.chrome.options import Options\n",
    "from selenium.common.exceptions import NoSuchElementException\n",
    "import pandas as pd\n",
    "import time"
   ]
  },
  {
   "cell_type": "markdown",
   "id": "d57d2908",
   "metadata": {},
   "source": [
    "Collecting enterprise-specific data: flex-CSS"
   ]
  },
  {
   "cell_type": "code",
   "execution_count": 1,
   "id": "7921959e",
   "metadata": {},
   "outputs": [
    {
     "ename": "NameError",
     "evalue": "name 'Options' is not defined",
     "output_type": "error",
     "traceback": [
      "\u001b[1;31m---------------------------------------------------------------------------\u001b[0m",
      "\u001b[1;31mNameError\u001b[0m                                 Traceback (most recent call last)",
      "\u001b[1;32m<ipython-input-1-e28e87f54dbd>\u001b[0m in \u001b[0;36m<module>\u001b[1;34m\u001b[0m\n\u001b[0;32m     15\u001b[0m     \u001b[1;32mreturn\u001b[0m \u001b[0mdriver\u001b[0m\u001b[1;33m\u001b[0m\u001b[1;33m\u001b[0m\u001b[0m\n\u001b[0;32m     16\u001b[0m \u001b[1;33m\u001b[0m\u001b[0m\n\u001b[1;32m---> 17\u001b[1;33m \u001b[0mdriver\u001b[0m \u001b[1;33m=\u001b[0m \u001b[0mconnectchrome\u001b[0m\u001b[1;33m(\u001b[0m\u001b[1;33m)\u001b[0m\u001b[1;33m\u001b[0m\u001b[1;33m\u001b[0m\u001b[0m\n\u001b[0m\u001b[0;32m     18\u001b[0m \u001b[0mdriver\u001b[0m\u001b[1;33m.\u001b[0m\u001b[0mimplicitly_wait\u001b[0m\u001b[1;33m(\u001b[0m\u001b[1;36m3\u001b[0m\u001b[1;33m)\u001b[0m\u001b[1;33m\u001b[0m\u001b[1;33m\u001b[0m\u001b[0m\n\u001b[0;32m     19\u001b[0m \u001b[1;33m\u001b[0m\u001b[0m\n",
      "\u001b[1;32m<ipython-input-1-e28e87f54dbd>\u001b[0m in \u001b[0;36mconnectchrome\u001b[1;34m()\u001b[0m\n\u001b[0;32m      2\u001b[0m \u001b[1;33m\u001b[0m\u001b[0m\n\u001b[0;32m      3\u001b[0m \u001b[1;32mdef\u001b[0m \u001b[0mconnectchrome\u001b[0m\u001b[1;33m(\u001b[0m\u001b[1;33m)\u001b[0m\u001b[1;33m:\u001b[0m\u001b[1;33m\u001b[0m\u001b[1;33m\u001b[0m\u001b[0m\n\u001b[1;32m----> 4\u001b[1;33m     \u001b[0moptions\u001b[0m \u001b[1;33m=\u001b[0m \u001b[0mOptions\u001b[0m\u001b[1;33m(\u001b[0m\u001b[1;33m)\u001b[0m\u001b[1;33m\u001b[0m\u001b[1;33m\u001b[0m\u001b[0m\n\u001b[0m\u001b[0;32m      5\u001b[0m     \u001b[1;31m# if you want to hide browser window, uncomment line below\u001b[0m\u001b[1;33m\u001b[0m\u001b[1;33m\u001b[0m\u001b[1;33m\u001b[0m\u001b[0m\n\u001b[0;32m      6\u001b[0m     \u001b[1;31m#options.add_argument('--headless')\u001b[0m\u001b[1;33m\u001b[0m\u001b[1;33m\u001b[0m\u001b[1;33m\u001b[0m\u001b[0m\n",
      "\u001b[1;31mNameError\u001b[0m: name 'Options' is not defined"
     ]
    }
   ],
   "source": [
    "DEBUG = 1\n",
    "\n",
    "def connectchrome():\n",
    "    options = Options()\n",
    "    # if you want to hide browser window, uncomment line below\n",
    "    #options.add_argument('--headless')\n",
    "    options.add_argument('log-level=3')\n",
    "    options.add_argument(\"--incognito\")\n",
    "    options.add_argument(\"--no-sandbox\")\n",
    "    options.add_argument(\"--disable-dev-shm-usage\")\n",
    "    options.add_experimental_option('excludeSwitches', ['enable-logging'])\n",
    "    driver = webdriver.Chrome(executable_path= r'C:\\\\Users\\\\user\\\\Desktop\\\\python\\\\banyous\\\\1-Quora-scrapping\\\\chromedriver.exe', options = options)\n",
    "    driver.maximize_window()\n",
    "    time.sleep(2)\n",
    "    return driver\n",
    "\n",
    "driver = connectchrome()\n",
    "driver.implicitly_wait(3)\n",
    "\n",
    "# Log-in\n",
    "driver.get('https://www.businessmodelideas.com/login')\n",
    "login_button = driver.find_element_by_xpath(\"//div[@class='col-12 text-lg-right text-left']/button[@type='submit' and @class='cta']\")\n",
    "driver.find_element_by_name('login').send_keys('innolab.admin@ds.seoultech.ac.kr') #user_id\n",
    "driver.find_element_by_name('password').send_keys('toctoctoc') #password\n",
    "login_button.click()\n",
    "driver.implicitly_wait(3)\n",
    "\n",
    "# Read a text file with business names\n",
    "with open('company_list(N=156).txt', 'r') as file:\n",
    "    company_names = [line.strip() for line in file.readlines()]\n",
    "    #company_names = [line.strip().lower() for line in file.readlines()]\n",
    "    \n",
    "all_data = []\n",
    "\n",
    "for company_name in company_names: \n",
    "    try:\n",
    "        url = f\"https://www.businessmodelideas.com/company/{company_name}\"\n",
    "        driver.get(url)\n",
    "\n",
    "        data = {\"Company\": company_name}\n",
    "        description_element = driver.find_element_by_xpath(\"//div[@class='company-description']/div[@class='pr-lg-5 normal-text mb-4']/p\")\n",
    "        description_text = description_element.text\n",
    "        data[\"Description\"] = description_text\n",
    "\n",
    "        headers = [\"Key Partners\", \"Key Activities\", \"Key Resources\", \"Value Propositions\", \n",
    "                \"Customer Relationships\", \"Channels\", \"Customer Segments\", \n",
    "                \"Cost Structure\", \"Revenue Streams\"]\n",
    "\n",
    "        for header in headers:\n",
    "            header_elements = driver.find_elements_by_xpath(f\"//div[@class='cube-heading mb-2'][contains(text(), '{header}')]/following-sibling::div[contains(@class, 'cube-element')]/span\")\n",
    "            header_texts = ', '.join([element.text for element in header_elements])\n",
    "            data[header] = header_texts\n",
    "\n",
    "        all_data.append(data)\n",
    "    except NoSuchElementException as e:\n",
    "        print(f\"Cannot find data for {company_name}. Skipping this company.\")\n",
    "\n",
    "# Convert all enterprise data into a single DataFrame\n",
    "df_all = pd.DataFrame([all_data])\n",
    "\n",
    "# Save the DataFrame as a CSV file\n",
    "df_all.to_csv(\"collected_data_5.csv\", index=False)\n",
    "    \n",
    "# Print the number of companies that were successfully collected\n",
    "print(f\"Number of companies successfully scraped: {len(all_data)}\")\n",
    "\n",
    "# Close the Webdriver\n",
    "driver.quit()"
   ]
  }
 ],
 "metadata": {
  "kernelspec": {
   "display_name": "Python 3",
   "language": "python",
   "name": "python3"
  },
  "language_info": {
   "codemirror_mode": {
    "name": "ipython",
    "version": 3
   },
   "file_extension": ".py",
   "mimetype": "text/x-python",
   "name": "python",
   "nbconvert_exporter": "python",
   "pygments_lexer": "ipython3",
   "version": "3.8.8"
  }
 },
 "nbformat": 4,
 "nbformat_minor": 5
}
