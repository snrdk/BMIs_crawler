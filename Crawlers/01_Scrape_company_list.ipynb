{
 "cells": [
  {
   "cell_type": "markdown",
   "id": "34c41d72",
   "metadata": {},
   "source": [
    "Imprt libraries"
   ]
  },
  {
   "cell_type": "code",
   "execution_count": null,
   "id": "79c770cb",
   "metadata": {},
   "outputs": [],
   "source": [
    "from bs4 import BeautifulSoup\n",
    "import os\n",
    "import datetime\n",
    "import time\n",
    "import csv\n",
    "import sys\n",
    "import requests\n",
    "from selenium import webdriver\n",
    "from selenium.webdriver.chrome.options import Options\n",
    "from selenium.webdriver.common.by import By\n",
    "from selenium.webdriver.support.ui import WebDriverWait\n",
    "from selenium.webdriver.support import expected_conditions as EC\n",
    "from selenium.common.exceptions import TimeoutException\n",
    "from webdriver_manager.chrome import ChromeDriverManager\n",
    "from selenium.webdriver.common.keys import Keys\n",
    "from selenium.common.exceptions import TimeoutException, NoSuchElementException\n",
    "import pandas as pd"
   ]
  },
  {
   "cell_type": "markdown",
   "id": "0759a03e",
   "metadata": {},
   "source": [
    "  "
   ]
  },
  {
   "cell_type": "markdown",
   "id": "05a86fa8",
   "metadata": {},
   "source": [
    "Log in and collect the company list"
   ]
  },
  {
   "cell_type": "code",
   "execution_count": null,
   "id": "bffd9b60",
   "metadata": {},
   "outputs": [],
   "source": [
    "DEBUG = 1\n",
    "\n",
    "def connectchrome():\n",
    "    options = Options()\n",
    "    # if you want to hide browser window, uncomment line below\n",
    "    #options.add_argument('--headless')\n",
    "    options.add_argument('log-level=3')\n",
    "    options.add_argument(\"--incognito\")\n",
    "    options.add_argument(\"--no-sandbox\")\n",
    "    options.add_argument(\"--disable-dev-shm-usage\")\n",
    "    options.add_experimental_option('excludeSwitches', ['enable-logging'])\n",
    "    driver = webdriver.Chrome(executable_path= r'C:\\\\Users\\\\user\\\\Desktop\\\\python\\\\banyous\\\\1-Quora-scrapping\\\\chromedriver.exe', options = options)\n",
    "    driver.maximize_window()\n",
    "    time.sleep(2)\n",
    "    return driver\n",
    "\n",
    "driver = connectchrome()\n",
    "driver.implicitly_wait(3)\n",
    "\n",
    "# Log-in\n",
    "driver.get('https://www.businessmodelideas.com/login')\n",
    "login_button = driver.find_element_by_xpath(\"//div[@class='col-12 text-lg-right text-left']/button[@type='submit' and @class='cta']\")\n",
    "\n",
    "driver.find_element_by_name('login').send_keys('your id') #user_id\n",
    "driver.find_element_by_name('password').send_keys('your password') #password\n",
    "login_button.click()\n",
    "driver.implicitly_wait(3)\n",
    "\n",
    "company_list = []\n",
    "url1 = \"https://www.businessmodelideas.com/explore\"\n",
    "\n",
    "driver.get(url1)\n",
    "driver.implicitly_wait(3)\n",
    "\n",
    "# Find company titles (h2 tags) and Save\n",
    "company_elements = driver.find_elements_by_class_name(\"company-title\")\n",
    "company_names = [element.text for element in company_elements]\n",
    "\n",
    "with open('company_list.txt', 'w', encoding='utf-8') as file:\n",
    "    for name in company_names:\n",
    "        file.write(name + \"\\n\")"
   ]
  }
 ],
 "metadata": {
  "kernelspec": {
   "display_name": "Python 3",
   "language": "python",
   "name": "python3"
  },
  "language_info": {
   "codemirror_mode": {
    "name": "ipython",
    "version": 3
   },
   "file_extension": ".py",
   "mimetype": "text/x-python",
   "name": "python",
   "nbconvert_exporter": "python",
   "pygments_lexer": "ipython3",
   "version": "3.8.8"
  }
 },
 "nbformat": 4,
 "nbformat_minor": 5
}
